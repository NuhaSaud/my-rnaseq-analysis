{
  "nbformat": 4,
  "nbformat_minor": 0,
  "metadata": {
    "colab": {
      "provenance": []
    },
    "kernelspec": {
      "name": "python3",
      "display_name": "Python 3"
    },
    "language_info": {
      "name": "python"
    }
  },
  "cells": [
    {
      "cell_type": "code",
      "execution_count": 11,
      "metadata": {
        "colab": {
          "base_uri": "https://localhost:8080/",
          "height": 877
        },
        "id": "ySDzHZWg1net",
        "outputId": "447c9691-bd98-47f5-f118-e31068ac0f93"
      },
      "outputs": [
        {
          "output_type": "stream",
          "name": "stderr",
          "text": [
            "<>:15: SyntaxWarning: invalid escape sequence '\\s'\n",
            "<>:19: SyntaxWarning: invalid escape sequence '\\s'\n",
            "<>:15: SyntaxWarning: invalid escape sequence '\\s'\n",
            "<>:19: SyntaxWarning: invalid escape sequence '\\s'\n",
            "/tmp/ipython-input-1505547822.py:15: SyntaxWarning: invalid escape sequence '\\s'\n",
            "  samples = pd.read_csv(samples_file, encoding='utf-8', on_bad_lines='warn', sep='\\s+', engine='python')\n",
            "/tmp/ipython-input-1505547822.py:19: SyntaxWarning: invalid escape sequence '\\s'\n",
            "  samples = pd.read_csv(samples_file, encoding='latin1', on_bad_lines='warn', sep='\\s+', engine='python')\n"
          ]
        },
        {
          "output_type": "stream",
          "name": "stdout",
          "text": [
            "🧬 Starting RNA-seq Quality Control Analysis\n",
            "📊 Loaded 6 samples with UTF-8 encoding\n",
            "✅ Found conditions: ['control', 'treatment']\n",
            "📈 Plot saved: results/sample_distribution.png\n",
            "\n",
            "📋 Analysis Summary:\n",
            "   Total samples: 6\n",
            "   Conditions: 2\n",
            "   Batches: 2\n",
            "✅ Quality control analysis completed!\n"
          ]
        },
        {
          "output_type": "display_data",
          "data": {
            "text/plain": [
              "<Figure size 1000x600 with 1 Axes>"
            ],
            "image/png": "[encoded data removed]"
          },
          "metadata": {}
        }
      ],
      "source": [
        "#!/usr/bin/env python3\n",
        "\"\"\"\n",
        "RNA-seq Quality Control Analysis\n",
        "\n",
        "This script analyzes sample metadata and performs basic QC checks.\n",
        "\"\"\"\n",
        "\n",
        "import pandas as pd\n",
        "import matplotlib.pyplot as plt\n",
        "from pathlib import Path\n",
        "\n",
        "def load_samples(samples_file):\n",
        "    \"\"\"Load and validate sample metadata\"\"\"\n",
        "    try:\n",
        "        samples = pd.read_csv(samples_file, encoding='utf-8', on_bad_lines='warn', sep='\\s+', engine='python')\n",
        "        print(f\"📊 Loaded {len(samples)} samples with UTF-8 encoding\")\n",
        "    except UnicodeDecodeError:\n",
        "        try:\n",
        "            samples = pd.read_csv(samples_file, encoding='latin1', on_bad_lines='warn', sep='\\s+', engine='python')\n",
        "            print(f\"📊 Loaded {len(samples)} samples with latin1 encoding\")\n",
        "        except Exception as e:\n",
        "            print(f\"❌ Error loading samples file: {e}\")\n",
        "            return None\n",
        "\n",
        "    # Check for required columns\n",
        "    required_cols = ['sample_id', 'condition', 'replicate']\n",
        "    missing_cols = [col for col in required_cols if col not in samples.columns]\n",
        "\n",
        "    if missing_cols:\n",
        "        print(f\"❌ Missing required columns: {missing_cols}\")\n",
        "        return None\n",
        "\n",
        "    print(f\"✅ Found conditions: {list(samples['condition'].unique())}\")\n",
        "    return samples\n",
        "\n",
        "def create_sample_overview(samples, output_dir=\"results\"):\n",
        "    \"\"\"Create overview plots of sample distribution\"\"\"\n",
        "    Path(output_dir).mkdir(exist_ok=True)\n",
        "\n",
        "    # Sample counts by condition\n",
        "    condition_counts = samples['condition'].value_counts()\n",
        "\n",
        "    plt.figure(figsize=(10, 6))\n",
        "    condition_counts.plot(kind='bar', color=['skyblue', 'lightcoral'])\n",
        "    plt.title('Sample Distribution by Condition')\n",
        "    plt.ylabel('Number of Samples')\n",
        "    plt.xlabel('Condition')\n",
        "    plt.xticks(rotation=45)\n",
        "    plt.tight_layout()\n",
        "\n",
        "    output_file = Path(output_dir) / \"sample_distribution.png\"\n",
        "    plt.savefig(output_file, dpi=300, bbox_inches='tight')\n",
        "    print(f\"📈 Plot saved: {output_file}\")\n",
        "\n",
        "    return condition_counts\n",
        "\n",
        "def main():\n",
        "    \"\"\"Main analysis function\"\"\"\n",
        "    print(\"🧬 Starting RNA-seq Quality Control Analysis\")\n",
        "\n",
        "    # Load sample data\n",
        "    samples = load_samples(\"samples.csv\")\n",
        "    if samples is None:\n",
        "        return\n",
        "\n",
        "    # Create overview plots\n",
        "    condition_counts = create_sample_overview(samples)\n",
        "\n",
        "    # Print summary\n",
        "    print(f\"\\n📋 Analysis Summary:\")\n",
        "    print(f\"   Total samples: {len(samples)}\")\n",
        "    print(f\"   Conditions: {len(condition_counts)}\")\n",
        "    print(f\"   Batches: {len(samples['batch'].unique()) if 'batch' in samples.columns else 'Not specified'}\")\n",
        "\n",
        "    print(\"✅ Quality control analysis completed!\")\n",
        "\n",
        "if __name__ == \"__main__\":\n",
        "    main()"
      ]
    },
    {
      "cell_type": "code",
      "metadata": {
        "colab": {
          "base_uri": "https://localhost:8080/"
        },
        "id": "eaf70e1d",
        "outputId": "dc645345-87c3-4dc6-974c-51ef9aeb37de"
      },
      "source": [
        "%%writefile samples.csv\n",
        "sample_id\tcondition\treplicate\tbatch\n",
        "sample01\tcontrol\t1\tbatch1\n",
        "sample02\tcontrol\t2\tbatch1\n",
        "sample03\tcontrol\t3\tbatch2\n",
        "sample04\ttreatment\t1\tbatch1\n",
        "sample05\ttreatment\t2\tbatch1\n",
        "sample06\ttreatment\t3\tbatch2"
      ],
      "execution_count": 7,
      "outputs": [
        {
          "output_type": "stream",
          "name": "stdout",
          "text": [
            "Overwriting samples.csv\n"
          ]
        }
      ]
    },
    {
      "cell_type": "code",
      "source": [
        "%%writefile samples.csv\n",
        "sample_id\tcondition\treplicate\tbatch\n",
        "sample01\tcontrol\t1\tbatch1\n",
        "sample02\tcontrol\t2\tbatch1\n",
        "sample03\tcontrol\t3\tbatch2\n",
        "sample04\ttreatment\t1\tbatch1\n",
        "sample05\ttreatment\t2\tbatch1\n",
        "sample06\ttreatment\t3\tbatch2"
      ],
      "metadata": {
        "colab": {
          "base_uri": "https://localhost:8080/"
        },
        "id": "HNXTLeTK1qp9",
        "outputId": "46948a9a-e847-42db-be2f-2bbb3b91358a"
      },
      "execution_count": 10,
      "outputs": [
        {
          "output_type": "stream",
          "name": "stdout",
          "text": [
            "Overwriting samples.csv\n"
          ]
        }
      ]
    }
  ]
}